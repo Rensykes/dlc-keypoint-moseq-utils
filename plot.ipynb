{
 "cells": [
  {
   "cell_type": "markdown",
   "metadata": {},
   "source": [
    "# Preliminary Steps (Mandatory)\n",
    "\n",
    "- Create a kernel (or virtual environment, venv)\n",
    "- Place the CSV file in the /csv folder"
   ]
  },
  {
   "cell_type": "code",
   "execution_count": null,
   "metadata": {},
   "outputs": [],
   "source": [
    "%pip install pandas\n",
    "%pip install PyYAML\n",
    "%pip install matplotlib"
   ]
  },
  {
   "cell_type": "code",
   "execution_count": null,
   "metadata": {},
   "outputs": [],
   "source": [
    "import os\n",
    "import glob\n",
    "import pandas as pd\n",
    "import matplotlib.pyplot as plt\n",
    "\n",
    "csv_folder = 'csv/'\n",
    "\n",
    "# Get a list of CSV files in the folder\n",
    "csv_files = glob.glob(csv_folder + '*.csv')\n",
    "\n",
    "# Check if any CSV files are found\n",
    "if csv_files:\n",
    "    # Load the first CSV file into a pandas DataFrame\n",
    "    first_csv_file = csv_files[0]\n",
    "    \n",
    "    # print(\"DataFrame loaded successfully.\")\n",
    "    # print(df.head())  # Print the first few rows of the DataFrame\n",
    "else:\n",
    "    print(\"No CSV files found in the folder.\")"
   ]
  },
  {
   "cell_type": "markdown",
   "metadata": {},
   "source": [
    "## Extract bodyparts from Dataframe"
   ]
  },
  {
   "cell_type": "code",
   "execution_count": null,
   "metadata": {},
   "outputs": [],
   "source": [
    "# Load the CSV data into a pandas DataFrame\n",
    "df = pd.read_csv(first_csv_file, skiprows=1)\n",
    "\n",
    "head_x = df['head'][1:].astype(float)  # Remove the first element and convert to float for plotting\n",
    "head_y = df['head.1'][1:].astype(float)  # Remove the first element and convert to float for plotting\n",
    "\n",
    "nose_x = df['nose'][1:].astype(float)  # Remove the first element and convert to float for plotting\n",
    "nose_y = df['nose.1'][1:].astype(float)  # Remove the first element and convert to float for plotting\n",
    "\n",
    "spine1_x = df['spine1'][1:].astype(float)  # Remove the first element and convert to float for plotting\n",
    "spine1_y = df['spine1.1'][1:].astype(float)  # Remove the first element and convert to float for plotting\n",
    "\n",
    "spine2_x = df['spine2'][1:].astype(float)  # Remove the first element and convert to float for plotting\n",
    "spine2_y = df['spine2.1'][1:].astype(float)  # Remove the first element and convert to float for plotting\n",
    "\n",
    "spine3_x = df['spine3'][1:].astype(float)  # Remove the first element and convert to float for plotting\n",
    "spine3_y = df['spine3.1'][1:].astype(float)  # Remove the first element and convert to float for plotting\n",
    "\n",
    "spine4_x = df['spine4'][1:].astype(float)  # Remove the first element and convert to float for plotting\n",
    "spine4_y = df['spine4.1'][1:].astype(float)  # Remove the first element and convert to float for plotting"
   ]
  },
  {
   "cell_type": "markdown",
   "metadata": {},
   "source": [
    "# Line Plot (Optional)"
   ]
  },
  {
   "cell_type": "code",
   "execution_count": null,
   "metadata": {},
   "outputs": [],
   "source": [
    "# Generate indices starting from 1\n",
    "indices = range(1, len(head_x) + 1)\n",
    "\n",
    "# Plot head_x and head_y\n",
    "plt.plot(indices, head_x, label='head_x')\n",
    "plt.plot(indices, head_y, label='head_y')\n",
    "\n",
    "# Add labels and legend\n",
    "plt.xlabel('Index')\n",
    "plt.ylabel('Pixel Coordinates')\n",
    "plt.legend()\n",
    "\n",
    "# Show the plot\n",
    "plt.show()"
   ]
  },
  {
   "cell_type": "markdown",
   "metadata": {},
   "source": [
    "# Scatter Plot (Optional)"
   ]
  },
  {
   "cell_type": "code",
   "execution_count": null,
   "metadata": {},
   "outputs": [],
   "source": [
    "# Decrease the size of the dots\n",
    "dot_size = 5  # Adjust the size as needed\n",
    "\n",
    "# Plot x vs y axis\n",
    "plt.scatter(head_x, head_y, s=dot_size, label='Head')\n",
    "plt.scatter(spine1_x, spine1_y, s=dot_size, label='Spine1')\n",
    "plt.scatter(spine2_x, spine2_y, s=dot_size, label='Spine2')\n",
    "plt.scatter(spine3_x, spine3_y, s=dot_size, label='Spine3')\n",
    "plt.scatter(spine4_x, spine4_y, s=dot_size, label='Spine4')\n",
    "plt.scatter(nose_x, nose_y, s=dot_size, label='Nose')\n",
    "\n",
    "# Add labels\n",
    "plt.xlabel('X')\n",
    "plt.ylabel('Y')\n",
    "plt.legend(loc='upper left', bbox_to_anchor=(1, 1))\n",
    "\n",
    "# Show the plot\n",
    "plt.show()"
   ]
  }
 ],
 "metadata": {
  "kernelspec": {
   "display_name": ".venv",
   "language": "python",
   "name": "python3"
  },
  "language_info": {
   "codemirror_mode": {
    "name": "ipython",
    "version": 3
   },
   "file_extension": ".py",
   "mimetype": "text/x-python",
   "name": "python",
   "nbconvert_exporter": "python",
   "pygments_lexer": "ipython3",
   "version": "3.12.1"
  }
 },
 "nbformat": 4,
 "nbformat_minor": 2
}
